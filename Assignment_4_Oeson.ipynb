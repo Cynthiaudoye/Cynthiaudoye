{
  "nbformat": 4,
  "nbformat_minor": 0,
  "metadata": {
    "colab": {
      "provenance": [],
      "authorship_tag": "ABX9TyMzm5kUyTH47z4XJHHaYlpC",
      "include_colab_link": true
    },
    "kernelspec": {
      "name": "python3",
      "display_name": "Python 3"
    },
    "language_info": {
      "name": "python"
    }
  },
  "cells": [
    {
      "cell_type": "markdown",
      "metadata": {
        "id": "view-in-github",
        "colab_type": "text"
      },
      "source": [
        "<a href=\"https://colab.research.google.com/github/Cynthiaudoye/Cynthiaudoye/blob/main/Assignment_4_Oeson.ipynb\" target=\"_parent\"><img src=\"https://colab.research.google.com/assets/colab-badge.svg\" alt=\"Open In Colab\"/></a>"
      ]
    },
    {
      "cell_type": "markdown",
      "source": [
        "WAP to print the following series:\n",
        "    1 ,4,9,16,25,36……………."
      ],
      "metadata": {
        "id": "rfntiZaNSrNA"
      }
    },
    {
      "cell_type": "code",
      "execution_count": 3,
      "metadata": {
        "colab": {
          "base_uri": "https://localhost:8080/"
        },
        "id": "K8aYaNs1Siyi",
        "outputId": "2c715e4c-b460-4ceb-b502-93f5209196ea"
      },
      "outputs": [
        {
          "output_type": "stream",
          "name": "stdout",
          "text": [
            "1, 4, 9, 16, 25, 36, 49, 64, 81, 100, "
          ]
        }
      ],
      "source": [
        "limit = 10\n",
        "for i in range(1, limit + 1):\n",
        "  square = i ** 2\n",
        "  print(square, end=', ')"
      ]
    },
    {
      "cell_type": "markdown",
      "source": [
        "WAP to print the Fibonacci Series until a defined limit."
      ],
      "metadata": {
        "id": "8ABfL3HJVpxk"
      }
    },
    {
      "cell_type": "code",
      "source": [
        "def fibonacci_series(limit):\n",
        "  a, b = 0, 1\n",
        "  print(\"Fibonacci series up to\", limit, \":\")\n",
        "  while a <= limit:\n",
        "    print(a, end=' ')\n",
        "    a, b = b, a + b\n",
        "\n",
        "limit = 100\n",
        "fibonacci_series(limit)\n"
      ],
      "metadata": {
        "colab": {
          "base_uri": "https://localhost:8080/"
        },
        "id": "4q1jfk12Vu8i",
        "outputId": "3af5e838-71aa-495e-bf70-a0ac9d86107f"
      },
      "execution_count": 5,
      "outputs": [
        {
          "output_type": "stream",
          "name": "stdout",
          "text": [
            "Fibonacci series up to 100 :\n",
            "0 1 1 2 3 5 8 13 21 34 55 89 "
          ]
        }
      ]
    },
    {
      "cell_type": "markdown",
      "source": [
        "WAP to count the number of vowels in a given word"
      ],
      "metadata": {
        "id": "JB_4a-FCXIv_"
      }
    },
    {
      "cell_type": "code",
      "source": [
        "def count_vowels(word):\n",
        "  vowels = 'aeiouAEIOU'\n",
        "  vowel_count = 0\n",
        "  for char in word:\n",
        "    if char in vowels:\n",
        "      vowel_count += 1\n",
        "  return vowel_count\n",
        "\n",
        "word = \"Hello World\"\n",
        "print(f\"The number of vowels in '{word}' is {count_vowels(word)}\")"
      ],
      "metadata": {
        "colab": {
          "base_uri": "https://localhost:8080/"
        },
        "id": "cvgMzwa1XRbc",
        "outputId": "78dce934-c467-49fa-a2d8-12dcb653eb02"
      },
      "execution_count": 6,
      "outputs": [
        {
          "output_type": "stream",
          "name": "stdout",
          "text": [
            "The number of vowels in 'Hello World' is 3\n"
          ]
        }
      ]
    },
    {
      "cell_type": "markdown",
      "source": [
        "WAP to calculate the sum of digits of a number entered by user."
      ],
      "metadata": {
        "id": "7VTFKCrGY1eB"
      }
    },
    {
      "cell_type": "code",
      "source": [
        "def sum_of_digits():\n",
        "  number = input(\"Enter a number: \")\n",
        "  sum_digits = 0\n",
        "  for digit in number:\n",
        "    sum_digits += int(digit)\n",
        "  print(f\"The sum of the digits of {number} is {sum_digits}.\")\n",
        "\n",
        "sum_of_digits()\n"
      ],
      "metadata": {
        "colab": {
          "base_uri": "https://localhost:8080/"
        },
        "id": "TxZ7aQ3KaN8C",
        "outputId": "7b858f6a-d191-46a8-fa40-d10ab386685f"
      },
      "execution_count": 8,
      "outputs": [
        {
          "output_type": "stream",
          "name": "stdout",
          "text": [
            "Enter a number: 34\n",
            "The sum of the digits of 34 is 7.\n"
          ]
        }
      ]
    },
    {
      "cell_type": "markdown",
      "source": [
        "WAP to print date and time of your system."
      ],
      "metadata": {
        "id": "ljm7WirtbMdp"
      }
    },
    {
      "cell_type": "code",
      "source": [
        "import datetime\n",
        "\n",
        "def print_current_datetime():\n",
        "  now = datetime.datetime.now()\n",
        "  print(f\"current date and time: {now}\")\n",
        "\n",
        "print_current_datetime()"
      ],
      "metadata": {
        "colab": {
          "base_uri": "https://localhost:8080/"
        },
        "id": "LdeqbL_gbN0r",
        "outputId": "b8ae84ce-fb60-4507-aba1-1eef52e17388"
      },
      "execution_count": 10,
      "outputs": [
        {
          "output_type": "stream",
          "name": "stdout",
          "text": [
            "current date and time: 2024-02-05 22:44:13.408460\n"
          ]
        }
      ]
    },
    {
      "cell_type": "markdown",
      "source": [
        "WAP to calculate compound interest on a given principal amount."
      ],
      "metadata": {
        "id": "vn8HfLWPce5f"
      }
    },
    {
      "cell_type": "code",
      "source": [
        "def calculate_compound_interest(P, r, n, t):\n",
        "    \"\"\"\n",
        "    Calculate the compound interest.\n",
        "\n",
        "    Parameters:\n",
        "    P (float): Principal amount\n",
        "    r (float): Annual interest rate (as a decimal)\n",
        "    n (int): Number of times interest applied per time period\n",
        "    t (float): Time the money is invested for in years\n",
        "\n",
        "    Returns:\n",
        "    float: Compound interest\n",
        "    \"\"\"\n",
        "\n",
        "    A = P * (1 + r / n) ** (n * t)\n",
        "    CI = A - P\n",
        "    return CI\n",
        "\n",
        "\n",
        "P = 1000\n",
        "r = 0.05\n",
        "n = 4\n",
        "t = 5\n",
        "\n",
        "compound_interest = calculate_compound_interest(P, r, n, t)\n",
        "print(f\"The compound interest is: ${compound_interest:.2f}\")\n"
      ],
      "metadata": {
        "colab": {
          "base_uri": "https://localhost:8080/"
        },
        "id": "H9woQyXgcgmT",
        "outputId": "12ce3643-54eb-4363-c4b6-d6c5cac45da9"
      },
      "execution_count": 11,
      "outputs": [
        {
          "output_type": "stream",
          "name": "stdout",
          "text": [
            "The compound interest is: $282.04\n"
          ]
        }
      ]
    },
    {
      "cell_type": "markdown",
      "source": [
        "WAP to count the number of spaces in a given sentence."
      ],
      "metadata": {
        "id": "FmYC7acsdU5B"
      }
    },
    {
      "cell_type": "code",
      "source": [
        "def count_spaces(sentence):\n",
        "\n",
        "    space_count = 0\n",
        "\n",
        "    for char in sentence:\n",
        "\n",
        "        if char == ' ':\n",
        "            space_count += 1\n",
        "    return space_count\n",
        "\n",
        "\n",
        "sentence = \"This is a sample sentence with spaces.\"\n",
        "print(f\"The number of spaces in the sentence is: {count_spaces(sentence)}\")\n"
      ],
      "metadata": {
        "colab": {
          "base_uri": "https://localhost:8080/"
        },
        "id": "V_irtZITdWBH",
        "outputId": "4a53a1b0-6449-440d-f418-50e8db53b7f1"
      },
      "execution_count": 12,
      "outputs": [
        {
          "output_type": "stream",
          "name": "stdout",
          "text": [
            "The number of spaces in the sentence is: 6\n"
          ]
        }
      ]
    },
    {
      "cell_type": "markdown",
      "source": [
        "WAP to show only even digits  from a given number."
      ],
      "metadata": {
        "id": "d1_ZMDh9dp3x"
      }
    },
    {
      "cell_type": "code",
      "source": [
        "def filter_even_digits(number):\n",
        "\n",
        "    number_str = str(number)\n",
        "\n",
        "    even_digits = ''\n",
        "\n",
        "    for digit in number_str:\n",
        "\n",
        "        if int(digit) % 2 == 0:\n",
        "            even_digits += digit\n",
        "    return even_digits\n",
        "\n",
        "number = 123456789\n",
        "even_digits = filter_even_digits(number)\n",
        "print(f\"Even digits in {number}: {even_digits}\")\n"
      ],
      "metadata": {
        "colab": {
          "base_uri": "https://localhost:8080/"
        },
        "id": "468H6bTrdq-X",
        "outputId": "aeca4ce3-7819-48c8-a96c-dd48a209e881"
      },
      "execution_count": 13,
      "outputs": [
        {
          "output_type": "stream",
          "name": "stdout",
          "text": [
            "Even digits in 123456789: 2468\n"
          ]
        }
      ]
    },
    {
      "cell_type": "markdown",
      "source": [
        "WAP to swap the first and last digit of a number"
      ],
      "metadata": {
        "id": "_IBaqRaWd_XM"
      }
    },
    {
      "cell_type": "code",
      "source": [
        "def swap_first_last_digits(number):\n",
        "\n",
        "    number_str = str(number)\n",
        "\n",
        "    if len(number_str) > 1:\n",
        "\n",
        "        swapped_number_str = number_str[-1] + number_str[1:-1] + number_str[0]\n",
        "    else:\n",
        "\n",
        "        swapped_number_str = number_str\n",
        "\n",
        "    return int(swapped_number_str)\n",
        "\n",
        "\n",
        "number = 12345\n",
        "swapped_number = swap_first_last_digits(number)\n",
        "print(f\"Original number: {number}\")\n",
        "print(f\"Number after swapping first and last digits: {swapped_number}\")\n"
      ],
      "metadata": {
        "colab": {
          "base_uri": "https://localhost:8080/"
        },
        "id": "SCKcFfE0eAmR",
        "outputId": "35b19371-214f-422f-d1f4-ed312a6c0b06"
      },
      "execution_count": 14,
      "outputs": [
        {
          "output_type": "stream",
          "name": "stdout",
          "text": [
            "Original number: 12345\n",
            "Number after swapping first and last digits: 52341\n"
          ]
        }
      ]
    },
    {
      "cell_type": "markdown",
      "source": [
        "WAP to check whether a number is palindrome or not."
      ],
      "metadata": {
        "id": "H6f1DsvIeZaC"
      }
    },
    {
      "cell_type": "code",
      "source": [
        "def is_palindrome(number):\n",
        "\n",
        "    number_str = str(number)\n",
        "\n",
        "    if number_str == number_str[::-1]:\n",
        "        return True\n",
        "    else:\n",
        "        return False\n",
        "\n",
        "\n",
        "number = 12321\n",
        "if is_palindrome(number):\n",
        "    print(f\"{number} is a palindrome.\")\n",
        "else:\n",
        "    print(f\"{number} is not a palindrome.\")\n"
      ],
      "metadata": {
        "colab": {
          "base_uri": "https://localhost:8080/"
        },
        "id": "bDQwLjJ4efF8",
        "outputId": "922e39cd-3ca3-4cac-cbce-47723f1cb3dc"
      },
      "execution_count": 15,
      "outputs": [
        {
          "output_type": "stream",
          "name": "stdout",
          "text": [
            "12321 is a palindrome.\n"
          ]
        }
      ]
    },
    {
      "cell_type": "markdown",
      "source": [
        "WAP to print the following pattern\n",
        "\t\t\t*.\n",
        "\t\t*\t*\t*\n",
        "\t*\t*\t*\t*\t*"
      ],
      "metadata": {
        "id": "JhpY83VFeu7_"
      }
    },
    {
      "cell_type": "code",
      "source": [
        "def print_star_pyramid(rows):\n",
        "\n",
        "    max_width = 2 * rows - 1\n",
        "    for i in range(1, rows + 1):\n",
        "\n",
        "        stars = 2 * i - 1\n",
        "\n",
        "        spaces = (max_width - stars) // 2\n",
        "\n",
        "        print(' ' * spaces + '* ' * stars)\n",
        "\n",
        "\n",
        "print_star_pyramid(3)\n"
      ],
      "metadata": {
        "colab": {
          "base_uri": "https://localhost:8080/"
        },
        "id": "4QSBOE5ufUoF",
        "outputId": "ef3fb6d3-2c84-4945-e605-8a1d2efccdbe"
      },
      "execution_count": 16,
      "outputs": [
        {
          "output_type": "stream",
          "name": "stdout",
          "text": [
            "  * \n",
            " * * * \n",
            "* * * * * \n"
          ]
        }
      ]
    },
    {
      "cell_type": "markdown",
      "source": [
        "Convert decimal number to hexadecimal number using print() output formatting."
      ],
      "metadata": {
        "id": "-QxIjmeDfnxM"
      }
    },
    {
      "cell_type": "code",
      "source": [
        "decimal_number = 255\n",
        "\n",
        "\n",
        "print(f\"{decimal_number} in hexadecimal is {decimal_number:x}\")\n",
        "\n",
        "\n",
        "print(f\"{decimal_number} in hexadecimal is {decimal_number:X}\")\n"
      ],
      "metadata": {
        "colab": {
          "base_uri": "https://localhost:8080/"
        },
        "id": "DLHtcfSJfncj",
        "outputId": "c75c8cf5-8d9e-4341-917e-78286c6fc979"
      },
      "execution_count": 17,
      "outputs": [
        {
          "output_type": "stream",
          "name": "stdout",
          "text": [
            "255 in hexadecimal is ff\n",
            "255 in hexadecimal is FF\n"
          ]
        }
      ]
    },
    {
      "cell_type": "markdown",
      "source": [
        "WAP to accept any three string from one input() only."
      ],
      "metadata": {
        "id": "caL9T27pgWeO"
      }
    },
    {
      "cell_type": "code",
      "source": [
        "input_str = input(\"Enter three strings separated by spaces: \")\n",
        "\n",
        "\n",
        "strings = input_str.split(' ')\n",
        "\n",
        "\n",
        "if len(strings) == 3:\n",
        "    string1, string2, string3 = strings\n",
        "    print(f\"String 1: {string1}\")\n",
        "    print(f\"String 2: {string2}\")\n",
        "    print(f\"String 3: {string3}\")\n",
        "else:\n",
        "    print(\"Please enter exactly three strings.\")\n"
      ],
      "metadata": {
        "colab": {
          "base_uri": "https://localhost:8080/"
        },
        "id": "Ju9G2rragb-j",
        "outputId": "87493805-b2bb-47e7-89f3-c560908d3b3d"
      },
      "execution_count": 18,
      "outputs": [
        {
          "output_type": "stream",
          "name": "stdout",
          "text": [
            "Enter three strings separated by spaces: go to school\n",
            "String 1: go\n",
            "String 2: to\n",
            "String 3: school\n"
          ]
        }
      ]
    },
    {
      "cell_type": "markdown",
      "source": [
        "WAP to print a sentence using string. Format() method."
      ],
      "metadata": {
        "id": "MxLs38vxg1Kd"
      }
    },
    {
      "cell_type": "code",
      "source": [
        "sentence_template = \"My name is {}. I am {} years old and I live in {}.\"\n",
        "\n",
        "\n",
        "name = \"John\"\n",
        "age = 30\n",
        "city = \"New York\"\n",
        "\n",
        "\n",
        "formatted_sentence = sentence_template.format(name, age, city)\n",
        "\n",
        "\n",
        "print(formatted_sentence)\n"
      ],
      "metadata": {
        "colab": {
          "base_uri": "https://localhost:8080/"
        },
        "id": "oSkHU8UPg2n-",
        "outputId": "7ecdab4b-05ff-4728-cc99-f6d593c60ecb"
      },
      "execution_count": 19,
      "outputs": [
        {
          "output_type": "stream",
          "name": "stdout",
          "text": [
            "My name is John. I am 30 years old and I live in New York.\n"
          ]
        }
      ]
    },
    {
      "cell_type": "markdown",
      "source": [
        "WAP to read a file and print  second line from the file."
      ],
      "metadata": {
        "id": "P-xn0tEvhQsO"
      }
    },
    {
      "cell_type": "code",
      "source": [
        "filename = 'example.txt'\n",
        "\n",
        "\n",
        "with open(filename, 'r') as file:\n",
        "\n",
        "    lines = file.readlines()\n",
        "\n",
        "\n",
        "    if len(lines) >= 2:\n",
        "\n",
        "        print(lines[1])\n",
        "    else:\n",
        "        print(\"The file does not have a second line.\")"
      ],
      "metadata": {
        "id": "gRgEXZvOht1S"
      },
      "execution_count": null,
      "outputs": []
    },
    {
      "cell_type": "markdown",
      "source": [
        "WAP to display all prime numbers within a range of numbers."
      ],
      "metadata": {
        "id": "-SSfs49phyP2"
      }
    },
    {
      "cell_type": "code",
      "source": [
        "def is_prime(n):\n",
        "    \"\"\"Check if a number is prime.\"\"\"\n",
        "    if n <= 1:\n",
        "        return False\n",
        "    for i in range(2, int(n**0.5) + 1):\n",
        "        if n % i == 0:\n",
        "            return False\n",
        "    return True\n",
        "\n",
        "def display_primes(start, end):\n",
        "    \"\"\"Display all prime numbers within a given range.\"\"\"\n",
        "    for number in range(start, end + 1):\n",
        "        if is_prime(number):\n",
        "            print(number, end=' ')\n",
        "\n",
        "# Example usage: Display primes between 10 and 50\n",
        "start_range = 10\n",
        "end_range = 50\n",
        "print(f\"Prime numbers between {start_range} and {end_range}:\")\n",
        "display_primes(start_range, end_range)\n"
      ],
      "metadata": {
        "colab": {
          "base_uri": "https://localhost:8080/"
        },
        "id": "VfhfhgnIh2Jb",
        "outputId": "f64773c7-13fd-4e39-e960-28f9dedc7b41"
      },
      "execution_count": 21,
      "outputs": [
        {
          "output_type": "stream",
          "name": "stdout",
          "text": [
            "Prime numbers between 10 and 50:\n",
            "11 13 17 19 23 29 31 37 41 43 47 "
          ]
        }
      ]
    },
    {
      "cell_type": "markdown",
      "source": [
        "WAP to print alternate alphabet from a given string."
      ],
      "metadata": {
        "id": "5s-AfnPoiREt"
      }
    },
    {
      "cell_type": "code",
      "source": [
        "def print_alternate_characters(s):\n",
        "\n",
        "    alternate_chars = s[::2]\n",
        "\n",
        "    print(\"Alternate characters:\", alternate_chars)\n",
        "\n",
        "# Example usage\n",
        "given_string = \"Hello, World!\"\n",
        "print_alternate_characters(given_string)\n"
      ],
      "metadata": {
        "colab": {
          "base_uri": "https://localhost:8080/"
        },
        "id": "UsMfiksIiSQK",
        "outputId": "e0f9ec21-25aa-438f-dde5-e1b09da2dd47"
      },
      "execution_count": 22,
      "outputs": [
        {
          "output_type": "stream",
          "name": "stdout",
          "text": [
            "Alternate characters: Hlo ol!\n"
          ]
        }
      ]
    },
    {
      "cell_type": "markdown",
      "source": [
        "WAP to print the count of alphabet ,digits and special character from a given sentence."
      ],
      "metadata": {
        "id": "yeZBSHkaj5qg"
      }
    },
    {
      "cell_type": "code",
      "source": [
        "def count_characters(sentence):\n",
        "\n",
        "    alphabets_count = 0\n",
        "    digits_count = 0\n",
        "    special_characters_count = 0\n",
        "\n",
        "\n",
        "    for char in sentence:\n",
        "\n",
        "        if char.isalpha():\n",
        "            alphabets_count += 1\n",
        "\n",
        "        elif char.isdigit():\n",
        "            digits_count += 1\n",
        "\n",
        "        else:\n",
        "            special_characters_count += 1\n",
        "\n",
        "\n",
        "    print(f\"Alphabets: {alphabets_count}\")\n",
        "    print(f\"Digits: {digits_count}\")\n",
        "    print(f\"Special Characters: {special_characters_count}\")\n",
        "\n",
        "# Example usage\n",
        "sentence = \"Hello, World! 12345\"\n",
        "count_characters(sentence)\n"
      ],
      "metadata": {
        "colab": {
          "base_uri": "https://localhost:8080/"
        },
        "id": "1xeR31koj9Ws",
        "outputId": "ce06702b-e8a5-4d69-b32f-23ac64fa0aa3"
      },
      "execution_count": 23,
      "outputs": [
        {
          "output_type": "stream",
          "name": "stdout",
          "text": [
            "Alphabets: 10\n",
            "Digits: 5\n",
            "Special Characters: 4\n"
          ]
        }
      ]
    },
    {
      "cell_type": "markdown",
      "source": [
        "WAP to print the occurrence of a given substring in a string."
      ],
      "metadata": {
        "id": "ILcsyEqIkS1C"
      }
    },
    {
      "cell_type": "code",
      "source": [
        "def count_substring_occurrence(string, substring):\n",
        "\n",
        "    count = string.count(substring)\n",
        "    return count\n",
        "\n",
        "# Example usage\n",
        "string = \"hello world, hello universe, hello everyone\"\n",
        "substring = \"hello\"\n",
        "print(f\"The substring '{substring}' occurs {count_substring_occurrence(string, substring)} times in the string.\")\n"
      ],
      "metadata": {
        "colab": {
          "base_uri": "https://localhost:8080/"
        },
        "id": "gcOZkGLjkUAH",
        "outputId": "0b810661-6397-4cc6-b84b-2745e7b9e99b"
      },
      "execution_count": 24,
      "outputs": [
        {
          "output_type": "stream",
          "name": "stdout",
          "text": [
            "The substring 'hello' occurs 3 times in the string.\n"
          ]
        }
      ]
    },
    {
      "cell_type": "markdown",
      "source": [
        "WAP to print the middle alphabet of a given string."
      ],
      "metadata": {
        "id": "8TDnbsIbkwxq"
      }
    },
    {
      "cell_type": "code",
      "source": [
        "def print_middle_character(s):\n",
        "\n",
        "    length = len(s)\n",
        "\n",
        "    middle = length // 2\n",
        "\n",
        "    if length % 2 == 0:\n",
        "\n",
        "        print(\"Middle characters:\", s[middle - 1:middle + 1])\n",
        "    else:\n",
        "\n",
        "        print(\"Middle character:\", s[middle])\n",
        "\n",
        "# Example usage\n",
        "string1 = \"hello\"\n",
        "print_middle_character(string1)\n",
        "\n",
        "string2 = \"python\"\n",
        "print_middle_character(string2)"
      ],
      "metadata": {
        "colab": {
          "base_uri": "https://localhost:8080/"
        },
        "id": "GZ3TsXwQkx-a",
        "outputId": "41a24470-37f3-440a-e404-64cd849629c4"
      },
      "execution_count": 25,
      "outputs": [
        {
          "output_type": "stream",
          "name": "stdout",
          "text": [
            "Middle character: l\n",
            "Middle characters: th\n"
          ]
        }
      ]
    }
  ]
}