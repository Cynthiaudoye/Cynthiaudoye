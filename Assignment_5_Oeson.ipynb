{
  "nbformat": 4,
  "nbformat_minor": 0,
  "metadata": {
    "colab": {
      "provenance": [],
      "authorship_tag": "ABX9TyNKPFLRNTSazFQjwfRX3hjz",
      "include_colab_link": true
    },
    "kernelspec": {
      "name": "python3",
      "display_name": "Python 3"
    },
    "language_info": {
      "name": "python"
    }
  },
  "cells": [
    {
      "cell_type": "markdown",
      "metadata": {
        "id": "view-in-github",
        "colab_type": "text"
      },
      "source": [
        "<a href=\"https://colab.research.google.com/github/Cynthiaudoye/Cynthiaudoye/blob/main/Assignment_5_Oeson.ipynb\" target=\"_parent\"><img src=\"https://colab.research.google.com/assets/colab-badge.svg\" alt=\"Open In Colab\"/></a>"
      ]
    },
    {
      "cell_type": "markdown",
      "source": [
        "Write a Python function to find the maximum of three numbers in a list.\n",
        " Q2. Write a Python function to multiply all the numbers in a list.\n",
        " Q3. Write a Python program to reverse a list.\n",
        " Q4. Write a Python function to check whether a number falls within a given range in a list\n",
        " Q5. Write a Python function that accepts a string and counts the number of upper and lower case letters\n",
        " Q6.Write a Python function that takes a list and returns a new list with distinct\n",
        " elements from the first list.\n",
        " SampleList: [1,2,3,3,3,3,4,5]\n",
        " Unique List : [1, 2, 3, 4, 5]\n",
        " Q7.Apply all system defined functions like append, remove etc on a given list.\n",
        " Q8. WAP to Convert a list into a dictionary.\n",
        " Q9. WAP to Create a dictionary by extracting the keys from a given dictionary\n",
        "\n",
        " # Inputs:\n",
        " sample_dict = {\n",
        " \"name\": \"Kelly\",\n",
        " \"age\": 25,\n",
        " \"salary\": 8000,\n",
        " \"city\": \"New york\"}\n",
        "\n",
        " # Keys to extract\n",
        " keys = [\"name\", \"salary\"]\n",
        "\n",
        " # Expected Output: {'name': 'Kelly', 'salary': 8000}\n",
        "\n",
        "\n",
        "\n",
        " Q10. WAP to Get the key of a minimum value from the following dictionary\n",
        "\n",
        " #Input:\n",
        " sample_dict = {\n",
        " 'Physics': 82,\n",
        " 'Math': 65,\n",
        " 'history': 75\n",
        " }\n",
        "\n",
        " #Expected Output: Math\n",
        "\n",
        " Q11. WAP to Sort dictionary by values - descending scores\n",
        "\n",
        " #Input:\n",
        " sample_dict = {\n",
        " 'Physics': 82,\n",
        " 'Math': 65,\n",
        " 'history': 75,\n",
        " 'chemistry': 89,\n",
        " 'GK': 50\n",
        "\n",
        " }\n",
        "\n",
        "\n",
        " #Expected Output: 'chemistry': 89, 'Physics': 82, 'history': 75, 'Math': 65, 'GK': 50}\n"
      ],
      "metadata": {
        "id": "UvQYWDwAmV5s"
      }
    },
    {
      "cell_type": "code",
      "source": [
        "def max_of_three(numbers):\n",
        "    return max(numbers)\n"
      ],
      "metadata": {
        "id": "_pGwMHiFnUl0"
      },
      "execution_count": 1,
      "outputs": []
    },
    {
      "cell_type": "code",
      "source": [
        "def multiply_numbers(numbers):\n",
        "    result = 1\n",
        "    for number in numbers:\n",
        "        result *= number\n",
        "    return result\n"
      ],
      "metadata": {
        "id": "L4lJs3r6nadV"
      },
      "execution_count": 2,
      "outputs": []
    },
    {
      "cell_type": "code",
      "source": [
        "def reverse_list(lst):\n",
        "    return lst[::-1]\n"
      ],
      "metadata": {
        "id": "Et_2nCglndv3"
      },
      "execution_count": 3,
      "outputs": []
    },
    {
      "cell_type": "code",
      "source": [
        "def is_within_range(number, range_start, range_end):\n",
        "    return range_start <= number <= range_end\n"
      ],
      "metadata": {
        "id": "LeNh895Ynh0M"
      },
      "execution_count": 4,
      "outputs": []
    },
    {
      "cell_type": "code",
      "source": [
        "def count_cases(s):\n",
        "    upper_count = sum(1 for char in s if char.isupper())\n",
        "    lower_count = sum(1 for char in s if char.islower())\n",
        "    return {'UPPER': upper_count, 'LOWER': lower_count}\n"
      ],
      "metadata": {
        "id": "zjR4mTvYnkKu"
      },
      "execution_count": 5,
      "outputs": []
    },
    {
      "cell_type": "code",
      "source": [
        "def unique_list(lst):\n",
        "    return list(set(lst))\n",
        "\n"
      ],
      "metadata": {
        "id": "UDV4W-WInna_"
      },
      "execution_count": 6,
      "outputs": []
    },
    {
      "cell_type": "code",
      "source": [
        "sample_list = [1, 2, 3, 4, 5]\n",
        "sample_list.append(6)  # Append an item\n",
        "sample_list.remove(2)  # Remove an item\n",
        "print(sample_list)\n"
      ],
      "metadata": {
        "colab": {
          "base_uri": "https://localhost:8080/"
        },
        "id": "VtzPquBsnpfV",
        "outputId": "4f3e62ee-39b9-47b6-8677-398ee406ec2a"
      },
      "execution_count": 7,
      "outputs": [
        {
          "output_type": "stream",
          "name": "stdout",
          "text": [
            "[1, 3, 4, 5, 6]\n"
          ]
        }
      ]
    },
    {
      "cell_type": "code",
      "source": [
        "def list_to_dict(lst):\n",
        "    return dict(lst)\n"
      ],
      "metadata": {
        "id": "G5MdlxxfnwPe"
      },
      "execution_count": 14,
      "outputs": []
    },
    {
      "cell_type": "code",
      "source": [
        "def extract_keys(sample_dict, keys):\n",
        "    return {key: sample_dict[key] for key in keys}\n",
        "\n",
        "\n",
        "sample_dict = {\n",
        " \"name\": \"Kelly\",\n",
        " \"age\": 25,\n",
        " \"salary\": 8000,\n",
        " \"city\": \"New york\"\n",
        "}\n",
        "\n",
        "keys = [\"name\", \"salary\"]\n",
        "\n",
        "# Extracting specified keys\n",
        "result_dict = {key: sample_dict[key] for key in keys}\n",
        "print(result_dict)\n"
      ],
      "metadata": {
        "colab": {
          "base_uri": "https://localhost:8080/"
        },
        "id": "P2EFfDOLn0ky",
        "outputId": "e5206b50-fcae-4dfa-f944-c382567ea8e7"
      },
      "execution_count": 15,
      "outputs": [
        {
          "output_type": "stream",
          "name": "stdout",
          "text": [
            "{'name': 'Kelly', 'salary': 8000}\n"
          ]
        }
      ]
    },
    {
      "cell_type": "code",
      "source": [
        "def min_value_key(sample_dict):\n",
        "    return min(sample_dict, key=sample_dict.get)\n",
        "\n",
        "\n",
        "sample_dict = {\n",
        " 'Physics': 82,\n",
        " 'Math': 65,\n",
        " 'history': 75\n",
        "}\n",
        "\n",
        "# Getting the key of the minimum value\n",
        "min_key = min(sample_dict, key=sample_dict.get)\n",
        "print(min_key)\n",
        "\n"
      ],
      "metadata": {
        "colab": {
          "base_uri": "https://localhost:8080/"
        },
        "id": "mXdqgGTon9Vo",
        "outputId": "976a9340-7afe-4bc9-9f53-483d3c25b2f5"
      },
      "execution_count": 16,
      "outputs": [
        {
          "output_type": "stream",
          "name": "stdout",
          "text": [
            "Math\n"
          ]
        }
      ]
    },
    {
      "cell_type": "code",
      "source": [
        "sample_dict = {\n",
        "    'Physics': 82,\n",
        "    'Math': 65,\n",
        "    'history': 75,\n",
        "    'chemistry': 89,\n",
        "    'GK': 50\n",
        "}\n",
        "\n",
        "sorted_dict = dict(sorted(sample_dict.items(), key=lambda item: item[1], reverse=True))\n",
        "\n",
        "print(sorted_dict)\n",
        "\n"
      ],
      "metadata": {
        "colab": {
          "base_uri": "https://localhost:8080/"
        },
        "id": "hHWQ2nfAoCHh",
        "outputId": "0fe676d6-2a06-47c2-fc33-c3a9e9b29b0b"
      },
      "execution_count": 17,
      "outputs": [
        {
          "output_type": "stream",
          "name": "stdout",
          "text": [
            "{'chemistry': 89, 'Physics': 82, 'history': 75, 'Math': 65, 'GK': 50}\n"
          ]
        }
      ]
    },
    {
      "cell_type": "code",
      "source": [
        "def sort_dict_by_values_desc(sample_dict):\n",
        "    return dict(sorted(sample_dict.items(), key=lambda item: item[1], reverse=True))\n",
        "\n",
        "\n",
        "sample_dict = {\n",
        "    'Physics': 82,\n",
        "    'Math': 65,\n",
        "    'history': 75,\n",
        "    'chemistry': 89,\n",
        "    'GK': 50\n",
        "}\n",
        "\n",
        "#sorted_dict = dict(sorted(sample_dict.items(), key=lambda item: item[1], reverse=True))\n",
        "\n",
        "print(sorted_dict)\n"
      ],
      "metadata": {
        "colab": {
          "base_uri": "https://localhost:8080/"
        },
        "id": "7ninUKTTpCyi",
        "outputId": "98a84709-e781-4288-b543-b3421cd79788"
      },
      "execution_count": 20,
      "outputs": [
        {
          "output_type": "stream",
          "name": "stdout",
          "text": [
            "{'chemistry': 89, 'Physics': 82, 'history': 75, 'Math': 65, 'GK': 50}\n"
          ]
        }
      ]
    }
  ]
}